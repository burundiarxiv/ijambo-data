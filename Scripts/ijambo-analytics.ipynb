{
 "cells": [
  {
   "cell_type": "code",
   "execution_count": 1,
   "metadata": {},
   "outputs": [
    {
     "data": {
      "text/plain": [
       "True"
      ]
     },
     "execution_count": 1,
     "metadata": {},
     "output_type": "execute_result"
    }
   ],
   "source": [
    "import os\n",
    "import pandas as pd\n",
    "import pandasql as ps\n",
    "from collections import Counter\n",
    "from dotenv import load_dotenv\n",
    "load_dotenv()"
   ]
  },
  {
   "cell_type": "code",
   "execution_count": 2,
   "metadata": {},
   "outputs": [
    {
     "name": "stdout",
     "output_type": "stream",
     "text": [
      "<class 'pandas.core.frame.DataFrame'>\n",
      "RangeIndex: 5378 entries, 0 to 5377\n",
      "Data columns (total 18 columns):\n",
      " #   Column                Non-Null Count  Dtype              \n",
      "---  ------                --------------  -----              \n",
      " 0   country               5378 non-null   object             \n",
      " 1   guesses               5378 non-null   object             \n",
      " 2   id                    5378 non-null   int64              \n",
      " 3   score                 5378 non-null   float64            \n",
      " 4   solution              5378 non-null   object             \n",
      " 5   time_taken            5378 non-null   int64              \n",
      " 6   timezone              5327 non-null   object             \n",
      " 7   won                   5378 non-null   bool               \n",
      " 8   start_time            5378 non-null   object             \n",
      " 9   end_time              5378 non-null   object             \n",
      " 10  list_guesses          5378 non-null   object             \n",
      " 11  count_guesses         5378 non-null   object             \n",
      " 12  converted_start_time  5378 non-null   datetime64[ns, UTC]\n",
      " 13  start_date            5378 non-null   datetime64[ns]     \n",
      " 14  start_hour            5378 non-null   datetime64[ns]     \n",
      " 15  converted_end_time    5378 non-null   datetime64[ns, UTC]\n",
      " 16  end_date              5378 non-null   object             \n",
      " 17  end_hour              5378 non-null   object             \n",
      "dtypes: bool(1), datetime64[ns, UTC](2), datetime64[ns](2), float64(1), int64(2), object(10)\n",
      "memory usage: 719.6+ KB\n"
     ]
    }
   ],
   "source": [
    "path = os.getenv('path')\n",
    "df = pd.read_csv(path + 'ijambo-data.csv', parse_dates=[10,11,12,13,14,15])\n",
    "df.info()"
   ]
  },
  {
   "cell_type": "code",
   "execution_count": 3,
   "metadata": {},
   "outputs": [
    {
     "data": {
      "text/html": [
       "<div>\n",
       "<style scoped>\n",
       "    .dataframe tbody tr th:only-of-type {\n",
       "        vertical-align: middle;\n",
       "    }\n",
       "\n",
       "    .dataframe tbody tr th {\n",
       "        vertical-align: top;\n",
       "    }\n",
       "\n",
       "    .dataframe thead th {\n",
       "        text-align: right;\n",
       "    }\n",
       "</style>\n",
       "<table border=\"1\" class=\"dataframe\">\n",
       "  <thead>\n",
       "    <tr style=\"text-align: right;\">\n",
       "      <th></th>\n",
       "      <th>country</th>\n",
       "      <th>guesses</th>\n",
       "      <th>id</th>\n",
       "      <th>score</th>\n",
       "      <th>solution</th>\n",
       "      <th>time_taken</th>\n",
       "      <th>timezone</th>\n",
       "      <th>won</th>\n",
       "      <th>start_time</th>\n",
       "      <th>end_time</th>\n",
       "      <th>list_guesses</th>\n",
       "      <th>count_guesses</th>\n",
       "      <th>converted_start_time</th>\n",
       "      <th>start_date</th>\n",
       "      <th>start_hour</th>\n",
       "      <th>converted_end_time</th>\n",
       "      <th>end_date</th>\n",
       "      <th>end_hour</th>\n",
       "    </tr>\n",
       "  </thead>\n",
       "  <tbody>\n",
       "    <tr>\n",
       "      <th>0</th>\n",
       "      <td>Burundi</td>\n",
       "      <td>['ABANA', 'BWIZA', 'IKIBI', 'IROBE', 'IMIBU', ...</td>\n",
       "      <td>5378</td>\n",
       "      <td>0.0</td>\n",
       "      <td>IDUBU</td>\n",
       "      <td>35826</td>\n",
       "      <td>Africa/Bujumbura</td>\n",
       "      <td>False</td>\n",
       "      <td>2022-04-06 11:19:53 +0200</td>\n",
       "      <td>2022-04-06 21:16:59 +0200</td>\n",
       "      <td>ABANA,BWIZA,IKIBI,IROBE,IMIBU,IYUBU</td>\n",
       "      <td>6</td>\n",
       "      <td>2022-04-06 09:19:53+00:00</td>\n",
       "      <td>2022-04-06</td>\n",
       "      <td>2022-04-06 09:19:53</td>\n",
       "      <td>2022-04-06 19:16:59+00:00</td>\n",
       "      <td>2022-04-06</td>\n",
       "      <td>19:16:59</td>\n",
       "    </tr>\n",
       "    <tr>\n",
       "      <th>1</th>\n",
       "      <td>Poland</td>\n",
       "      <td>['GUTYA', 'SHORA', 'IMBWA', 'INDWI', 'INKWI']</td>\n",
       "      <td>5377</td>\n",
       "      <td>54810.0</td>\n",
       "      <td>INKWI</td>\n",
       "      <td>10962</td>\n",
       "      <td>Europe/Warsaw</td>\n",
       "      <td>True</td>\n",
       "      <td>2022-04-06 18:10:46 +0200</td>\n",
       "      <td>2022-04-06 21:13:28 +0200</td>\n",
       "      <td>GUTYA,SHORA,IMBWA,INDWI,INKWI</td>\n",
       "      <td>5</td>\n",
       "      <td>2022-04-06 16:10:46+00:00</td>\n",
       "      <td>2022-04-06</td>\n",
       "      <td>2022-04-06 16:10:46</td>\n",
       "      <td>2022-04-06 19:13:28+00:00</td>\n",
       "      <td>2022-04-06</td>\n",
       "      <td>19:13:28</td>\n",
       "    </tr>\n",
       "  </tbody>\n",
       "</table>\n",
       "</div>"
      ],
      "text/plain": [
       "   country                                            guesses    id    score  \\\n",
       "0  Burundi  ['ABANA', 'BWIZA', 'IKIBI', 'IROBE', 'IMIBU', ...  5378      0.0   \n",
       "1   Poland      ['GUTYA', 'SHORA', 'IMBWA', 'INDWI', 'INKWI']  5377  54810.0   \n",
       "\n",
       "  solution  time_taken          timezone    won                 start_time  \\\n",
       "0    IDUBU       35826  Africa/Bujumbura  False  2022-04-06 11:19:53 +0200   \n",
       "1    INKWI       10962     Europe/Warsaw   True  2022-04-06 18:10:46 +0200   \n",
       "\n",
       "                    end_time                         list_guesses  \\\n",
       "0  2022-04-06 21:16:59 +0200  ABANA,BWIZA,IKIBI,IROBE,IMIBU,IYUBU   \n",
       "1  2022-04-06 21:13:28 +0200        GUTYA,SHORA,IMBWA,INDWI,INKWI   \n",
       "\n",
       "  count_guesses      converted_start_time start_date          start_hour  \\\n",
       "0             6 2022-04-06 09:19:53+00:00 2022-04-06 2022-04-06 09:19:53   \n",
       "1             5 2022-04-06 16:10:46+00:00 2022-04-06 2022-04-06 16:10:46   \n",
       "\n",
       "         converted_end_time    end_date  end_hour  \n",
       "0 2022-04-06 19:16:59+00:00  2022-04-06  19:16:59  \n",
       "1 2022-04-06 19:13:28+00:00  2022-04-06  19:13:28  "
      ]
     },
     "execution_count": 3,
     "metadata": {},
     "output_type": "execute_result"
    }
   ],
   "source": [
    "df.head(2)"
   ]
  },
  {
   "cell_type": "code",
   "execution_count": 4,
   "metadata": {},
   "outputs": [
    {
     "name": "stdout",
     "output_type": "stream",
     "text": [
      "                    start_date  count_players  running_total_players\n",
      "0   1970-01-01 00:00:00.000000             46                     46\n",
      "1   2022-03-28 00:00:00.000000              2                     48\n",
      "2   2022-03-29 00:00:00.000000              2                     50\n",
      "3   2022-03-30 00:00:00.000000             82                    132\n",
      "4   2022-03-31 00:00:00.000000            723                    855\n",
      "5   2022-04-01 00:00:00.000000            653                   1508\n",
      "6   2022-04-02 00:00:00.000000            715                   2223\n",
      "7   2022-04-03 00:00:00.000000            732                   2955\n",
      "8   2022-04-04 00:00:00.000000            802                   3757\n",
      "9   2022-04-05 00:00:00.000000            852                   4609\n",
      "10  2022-04-06 00:00:00.000000            769                   5378\n"
     ]
    }
   ],
   "source": [
    "# players per day\n",
    "q1 = \"\"\"SELECT start_date, c AS count_players,\n",
    "\n",
    "SUM(c) OVER(ORDER BY start_date) AS running_total_players\n",
    "FROM (\n",
    "  SELECT start_date, COUNT(DISTINCT id) c\n",
    "  FROM (\n",
    "    SELECT MIN(start_date) start_date, id\n",
    "    FROM df\n",
    "    GROUP BY id\n",
    "  ) \n",
    "  GROUP BY start_date\n",
    ") \n",
    "\"\"\"\n",
    "\n",
    "print(ps.sqldf(q1, locals()))"
   ]
  },
  {
   "cell_type": "code",
   "execution_count": 5,
   "metadata": {},
   "outputs": [
    {
     "name": "stdout",
     "output_type": "stream",
     "text": [
      "          country  count_players\n",
      "0         Burundi           2700\n",
      "1          Canada            724\n",
      "2          France            664\n",
      "3          Rwanda            324\n",
      "4   United States            226\n",
      "5           Kenya            143\n",
      "6         Belgium             75\n",
      "7  United Kingdom             72\n",
      "8          Sweden             48\n",
      "9     South Korea             46\n"
     ]
    }
   ],
   "source": [
    "# players per country\n",
    "q2 = \"\"\" SELECT\n",
    "    DISTINCT country,\n",
    "    COUNT (id) AS count_players\n",
    "FROM\n",
    "    df\n",
    "GROUP BY\n",
    "    country\n",
    "\n",
    "ORDER BY COUNT (id) DESC\n",
    "\n",
    "LIMIT 10  \n",
    "\"\"\"\n",
    "\n",
    "print(ps.sqldf(q2, locals()))"
   ]
  },
  {
   "cell_type": "code",
   "execution_count": 21,
   "metadata": {},
   "outputs": [
    {
     "name": "stdout",
     "output_type": "stream",
     "text": [
      "          country                  start_date  count_players\n",
      "0         Burundi  2022-04-06 00:00:00.000000            394\n",
      "1          Canada  2022-04-06 00:00:00.000000             97\n",
      "2          France  2022-04-06 00:00:00.000000             91\n",
      "3          Rwanda  2022-04-06 00:00:00.000000             47\n",
      "4   United States  2022-04-06 00:00:00.000000             40\n",
      "5           Kenya  2022-04-06 00:00:00.000000             19\n",
      "6         Belgium  2022-04-06 00:00:00.000000             13\n",
      "7  United Kingdom  2022-04-06 00:00:00.000000             10\n",
      "8          Sweden  2022-04-06 00:00:00.000000             10\n",
      "9     South Korea  2022-04-06 00:00:00.000000              4\n"
     ]
    }
   ],
   "source": [
    "# players by country per day\n",
    "q3 = \"\"\" SELECT\n",
    "    DISTINCT country,\n",
    "    start_date,\n",
    "    COUNT (DISTINCT id) AS count_players\n",
    "FROM df\n",
    "WHERE start_date \n",
    "GROUP BY\n",
    "    country, start_date\n",
    "\n",
    "ORDER BY start_date DESC, COUNT (DISTINCT id) DESC\n",
    "\n",
    "LIMIT 10  \n",
    "\"\"\"\n",
    "\n",
    "print(ps.sqldf(q3, locals()))"
   ]
  },
  {
   "cell_type": "code",
   "execution_count": 20,
   "metadata": {},
   "outputs": [
    {
     "name": "stdout",
     "output_type": "stream",
     "text": [
      "         country     avg_score\n",
      "0      Australia  4.122333e+09\n",
      "1        Denmark  6.183223e+08\n",
      "2        Belgium  1.555673e+08\n",
      "3         Canada  9.899467e+07\n",
      "4  United States  9.547158e+07\n",
      "5         Rwanda  9.240824e+07\n",
      "6         France  4.564601e+07\n",
      "7        Burundi  2.739454e+07\n",
      "8         Norway  7.265125e+04\n",
      "9     Guadeloupe  5.967517e+04\n"
     ]
    }
   ],
   "source": [
    "# rank score by country \n",
    "q4 = \"\"\" SELECT\n",
    "    DISTINCT country,\n",
    "    avg(score) AS avg_score \n",
    "FROM\n",
    "    df\n",
    "WHERE won = 1 \n",
    "GROUP BY\n",
    "    country\n",
    "ORDER BY avg(score) DESC\n",
    "\n",
    "LIMIT 10    \n",
    "\"\"\"\n",
    "\n",
    "print(ps.sqldf(q4, locals()))"
   ]
  },
  {
   "cell_type": "code",
   "execution_count": 22,
   "metadata": {},
   "outputs": [
    {
     "name": "stdout",
     "output_type": "stream",
     "text": [
      "       country                  start_date      avg_score\n",
      "0      Senegal  2022-04-06 00:00:00.000000  179140.000000\n",
      "1        Italy  2022-04-06 00:00:00.000000   49044.000000\n",
      "2  South Korea  2022-04-06 00:00:00.000000   41311.333333\n",
      "3      Denmark  2022-04-06 00:00:00.000000   28916.000000\n",
      "4       Poland  2022-04-06 00:00:00.000000   27659.000000\n",
      "5      Burundi  2022-04-06 00:00:00.000000   19983.030702\n",
      "6        Egypt  2022-04-06 00:00:00.000000   18445.000000\n",
      "7       France  2022-04-06 00:00:00.000000   17093.109375\n",
      "8  Netherlands  2022-04-06 00:00:00.000000   16229.333333\n",
      "9        China  2022-04-06 00:00:00.000000   15131.000000\n"
     ]
    }
   ],
   "source": [
    "#rank score by country per day\n",
    "q5 = \"\"\"SELECT\n",
    "    country,\n",
    "    start_date,\n",
    "    avg(score)  AS avg_score\n",
    "from\n",
    "    (\n",
    "        select *,avg(score) OVER (PARTITION BY country, start_date) \n",
    "        from df\n",
    "    ) \n",
    "WHERE won = 1  \n",
    "GROUP BY\n",
    "     country, start_date\n",
    "ORDER BY\n",
    "    start_date DESC, avg(score) DESC\n",
    "\n",
    "LIMIT 10\n",
    "\"\"\"\n",
    "\n",
    "print(ps.sqldf(q5, locals()))"
   ]
  },
  {
   "cell_type": "code",
   "execution_count": 9,
   "metadata": {},
   "outputs": [
    {
     "data": {
      "text/html": [
       "<div>\n",
       "<style scoped>\n",
       "    .dataframe tbody tr th:only-of-type {\n",
       "        vertical-align: middle;\n",
       "    }\n",
       "\n",
       "    .dataframe tbody tr th {\n",
       "        vertical-align: top;\n",
       "    }\n",
       "\n",
       "    .dataframe thead th {\n",
       "        text-align: right;\n",
       "    }\n",
       "</style>\n",
       "<table border=\"1\" class=\"dataframe\">\n",
       "  <thead>\n",
       "    <tr style=\"text-align: right;\">\n",
       "      <th></th>\n",
       "      <th>country</th>\n",
       "      <th>guesses</th>\n",
       "      <th>id</th>\n",
       "      <th>score</th>\n",
       "      <th>solution</th>\n",
       "      <th>time_taken</th>\n",
       "      <th>timezone</th>\n",
       "      <th>won</th>\n",
       "      <th>start_time</th>\n",
       "      <th>end_time</th>\n",
       "      <th>list_guesses</th>\n",
       "      <th>count_guesses</th>\n",
       "      <th>converted_start_time</th>\n",
       "      <th>start_date</th>\n",
       "      <th>start_hour</th>\n",
       "      <th>converted_end_time</th>\n",
       "      <th>end_date</th>\n",
       "      <th>end_hour</th>\n",
       "      <th>guesses_nber</th>\n",
       "      <th>guesses_extracted</th>\n",
       "    </tr>\n",
       "  </thead>\n",
       "  <tbody>\n",
       "    <tr>\n",
       "      <th>0</th>\n",
       "      <td>Burundi</td>\n",
       "      <td>['ABANA', 'BWIZA', 'IKIBI', 'IROBE', 'IMIBU', ...</td>\n",
       "      <td>5378</td>\n",
       "      <td>0.0</td>\n",
       "      <td>IDUBU</td>\n",
       "      <td>35826</td>\n",
       "      <td>Africa/Bujumbura</td>\n",
       "      <td>False</td>\n",
       "      <td>2022-04-06 11:19:53 +0200</td>\n",
       "      <td>2022-04-06 21:16:59 +0200</td>\n",
       "      <td>ABANA,BWIZA,IKIBI,IROBE,IMIBU,IYUBU</td>\n",
       "      <td>6</td>\n",
       "      <td>2022-04-06 09:19:53+00:00</td>\n",
       "      <td>2022-04-06</td>\n",
       "      <td>2022-04-06 09:19:53</td>\n",
       "      <td>2022-04-06 19:16:59+00:00</td>\n",
       "      <td>2022-04-06</td>\n",
       "      <td>19:16:59</td>\n",
       "      <td>guesses_sep0</td>\n",
       "      <td>ABANA</td>\n",
       "    </tr>\n",
       "    <tr>\n",
       "      <th>1</th>\n",
       "      <td>Poland</td>\n",
       "      <td>['GUTYA', 'SHORA', 'IMBWA', 'INDWI', 'INKWI']</td>\n",
       "      <td>5377</td>\n",
       "      <td>54810.0</td>\n",
       "      <td>INKWI</td>\n",
       "      <td>10962</td>\n",
       "      <td>Europe/Warsaw</td>\n",
       "      <td>True</td>\n",
       "      <td>2022-04-06 18:10:46 +0200</td>\n",
       "      <td>2022-04-06 21:13:28 +0200</td>\n",
       "      <td>GUTYA,SHORA,IMBWA,INDWI,INKWI</td>\n",
       "      <td>5</td>\n",
       "      <td>2022-04-06 16:10:46+00:00</td>\n",
       "      <td>2022-04-06</td>\n",
       "      <td>2022-04-06 16:10:46</td>\n",
       "      <td>2022-04-06 19:13:28+00:00</td>\n",
       "      <td>2022-04-06</td>\n",
       "      <td>19:13:28</td>\n",
       "      <td>guesses_sep0</td>\n",
       "      <td>GUTYA</td>\n",
       "    </tr>\n",
       "    <tr>\n",
       "      <th>2</th>\n",
       "      <td>Canada</td>\n",
       "      <td>['AMAZI', 'UMUTI', 'KURYA', 'KWICA', 'AMATA', ...</td>\n",
       "      <td>5376</td>\n",
       "      <td>0.0</td>\n",
       "      <td>IDUBU</td>\n",
       "      <td>164</td>\n",
       "      <td>America/Toronto</td>\n",
       "      <td>False</td>\n",
       "      <td>2022-04-06 15:10:27 -0400</td>\n",
       "      <td>2022-04-06 15:13:12 -0400</td>\n",
       "      <td>AMAZI,UMUTI,KURYA,KWICA,AMATA,GUKWA</td>\n",
       "      <td>6</td>\n",
       "      <td>2022-04-06 19:10:27+00:00</td>\n",
       "      <td>2022-04-06</td>\n",
       "      <td>2022-04-06 19:10:27</td>\n",
       "      <td>2022-04-06 19:13:12+00:00</td>\n",
       "      <td>2022-04-06</td>\n",
       "      <td>19:13:12</td>\n",
       "      <td>guesses_sep0</td>\n",
       "      <td>AMAZI</td>\n",
       "    </tr>\n",
       "    <tr>\n",
       "      <th>3</th>\n",
       "      <td>Burundi</td>\n",
       "      <td>['IMENA', 'IKIVI', 'ISEVU', 'IFURU', 'IRUGU', ...</td>\n",
       "      <td>5375</td>\n",
       "      <td>131904.0</td>\n",
       "      <td>IDUBU</td>\n",
       "      <td>21584</td>\n",
       "      <td>Africa/Bujumbura</td>\n",
       "      <td>True</td>\n",
       "      <td>2022-04-06 15:11:37 +0200</td>\n",
       "      <td>2022-04-06 21:11:22 +0200</td>\n",
       "      <td>IMENA,IKIVI,ISEVU,IFURU,IRUGU,IDUBU</td>\n",
       "      <td>6</td>\n",
       "      <td>2022-04-06 13:11:37+00:00</td>\n",
       "      <td>2022-04-06</td>\n",
       "      <td>2022-04-06 13:11:37</td>\n",
       "      <td>2022-04-06 19:11:22+00:00</td>\n",
       "      <td>2022-04-06</td>\n",
       "      <td>19:11:22</td>\n",
       "      <td>guesses_sep0</td>\n",
       "      <td>IMENA</td>\n",
       "    </tr>\n",
       "    <tr>\n",
       "      <th>4</th>\n",
       "      <td>Burundi</td>\n",
       "      <td>['UBURO', 'IZUBA', 'IDUBU']</td>\n",
       "      <td>5374</td>\n",
       "      <td>34308.0</td>\n",
       "      <td>IDUBU</td>\n",
       "      <td>11436</td>\n",
       "      <td>Africa/Bujumbura</td>\n",
       "      <td>True</td>\n",
       "      <td>2022-04-06 18:00:00 +0200</td>\n",
       "      <td>2022-04-06 21:10:37 +0200</td>\n",
       "      <td>UBURO,IZUBA,IDUBU</td>\n",
       "      <td>3</td>\n",
       "      <td>2022-04-06 16:00:00+00:00</td>\n",
       "      <td>2022-04-06</td>\n",
       "      <td>2022-04-06 16:00:00</td>\n",
       "      <td>2022-04-06 19:10:37+00:00</td>\n",
       "      <td>2022-04-06</td>\n",
       "      <td>19:10:37</td>\n",
       "      <td>guesses_sep0</td>\n",
       "      <td>UBURO</td>\n",
       "    </tr>\n",
       "  </tbody>\n",
       "</table>\n",
       "</div>"
      ],
      "text/plain": [
       "   country                                            guesses    id     score  \\\n",
       "0  Burundi  ['ABANA', 'BWIZA', 'IKIBI', 'IROBE', 'IMIBU', ...  5378       0.0   \n",
       "1   Poland      ['GUTYA', 'SHORA', 'IMBWA', 'INDWI', 'INKWI']  5377   54810.0   \n",
       "2   Canada  ['AMAZI', 'UMUTI', 'KURYA', 'KWICA', 'AMATA', ...  5376       0.0   \n",
       "3  Burundi  ['IMENA', 'IKIVI', 'ISEVU', 'IFURU', 'IRUGU', ...  5375  131904.0   \n",
       "4  Burundi                        ['UBURO', 'IZUBA', 'IDUBU']  5374   34308.0   \n",
       "\n",
       "  solution  time_taken          timezone    won                 start_time  \\\n",
       "0    IDUBU       35826  Africa/Bujumbura  False  2022-04-06 11:19:53 +0200   \n",
       "1    INKWI       10962     Europe/Warsaw   True  2022-04-06 18:10:46 +0200   \n",
       "2    IDUBU         164   America/Toronto  False  2022-04-06 15:10:27 -0400   \n",
       "3    IDUBU       21584  Africa/Bujumbura   True  2022-04-06 15:11:37 +0200   \n",
       "4    IDUBU       11436  Africa/Bujumbura   True  2022-04-06 18:00:00 +0200   \n",
       "\n",
       "                    end_time                         list_guesses  \\\n",
       "0  2022-04-06 21:16:59 +0200  ABANA,BWIZA,IKIBI,IROBE,IMIBU,IYUBU   \n",
       "1  2022-04-06 21:13:28 +0200        GUTYA,SHORA,IMBWA,INDWI,INKWI   \n",
       "2  2022-04-06 15:13:12 -0400  AMAZI,UMUTI,KURYA,KWICA,AMATA,GUKWA   \n",
       "3  2022-04-06 21:11:22 +0200  IMENA,IKIVI,ISEVU,IFURU,IRUGU,IDUBU   \n",
       "4  2022-04-06 21:10:37 +0200                    UBURO,IZUBA,IDUBU   \n",
       "\n",
       "  count_guesses      converted_start_time start_date          start_hour  \\\n",
       "0             6 2022-04-06 09:19:53+00:00 2022-04-06 2022-04-06 09:19:53   \n",
       "1             5 2022-04-06 16:10:46+00:00 2022-04-06 2022-04-06 16:10:46   \n",
       "2             6 2022-04-06 19:10:27+00:00 2022-04-06 2022-04-06 19:10:27   \n",
       "3             6 2022-04-06 13:11:37+00:00 2022-04-06 2022-04-06 13:11:37   \n",
       "4             3 2022-04-06 16:00:00+00:00 2022-04-06 2022-04-06 16:00:00   \n",
       "\n",
       "         converted_end_time    end_date  end_hour  guesses_nber  \\\n",
       "0 2022-04-06 19:16:59+00:00  2022-04-06  19:16:59  guesses_sep0   \n",
       "1 2022-04-06 19:13:28+00:00  2022-04-06  19:13:28  guesses_sep0   \n",
       "2 2022-04-06 19:13:12+00:00  2022-04-06  19:13:12  guesses_sep0   \n",
       "3 2022-04-06 19:11:22+00:00  2022-04-06  19:11:22  guesses_sep0   \n",
       "4 2022-04-06 19:10:37+00:00  2022-04-06  19:10:37  guesses_sep0   \n",
       "\n",
       "  guesses_extracted  \n",
       "0             ABANA  \n",
       "1             GUTYA  \n",
       "2             AMAZI  \n",
       "3             IMENA  \n",
       "4             UBURO  "
      ]
     },
     "execution_count": 9,
     "metadata": {},
     "output_type": "execute_result"
    }
   ],
   "source": [
    "#separate list of guesses in list_guesses column\n",
    "\n",
    "df_expanded = df['list_guesses'].str.split(',', expand=True)\n",
    "df_expanded.columns = ['guesses_sep'+str(i) for i in df_expanded.columns]\n",
    "\n",
    "df_expanded_concat = pd.concat([df,df_expanded], axis=1)\n",
    "\n",
    "\n",
    "df_reproduced = pd.melt(df_expanded_concat, id_vars=['country','guesses','id', 'score','solution', 'time_taken',\n",
    "'timezone', 'won', 'start_time', 'end_time', 'list_guesses', 'count_guesses', 'converted_start_time', 'start_date',\n",
    "                    'start_hour', 'converted_end_time', 'end_date', 'end_hour'],\n",
    "                                   value_vars=df_expanded.columns, var_name='guesses_nber', \n",
    "                                   value_name='guesses_extracted').dropna()\n",
    "\n",
    "\n",
    "df_reproduced.head()"
   ]
  },
  {
   "cell_type": "code",
   "execution_count": 10,
   "metadata": {},
   "outputs": [
    {
     "name": "stdout",
     "output_type": "stream",
     "text": [
      "<class 'pandas.core.frame.DataFrame'>\n",
      "Int64Index: 24257 entries, 0 to 32259\n",
      "Data columns (total 20 columns):\n",
      " #   Column                Non-Null Count  Dtype              \n",
      "---  ------                --------------  -----              \n",
      " 0   country               24257 non-null  object             \n",
      " 1   guesses               24257 non-null  object             \n",
      " 2   id                    24257 non-null  int64              \n",
      " 3   score                 24257 non-null  float64            \n",
      " 4   solution              24257 non-null  object             \n",
      " 5   time_taken            24257 non-null  int64              \n",
      " 6   timezone              24257 non-null  object             \n",
      " 7   won                   24257 non-null  bool               \n",
      " 8   start_time            24257 non-null  object             \n",
      " 9   end_time              24257 non-null  object             \n",
      " 10  list_guesses          24257 non-null  object             \n",
      " 11  count_guesses         24257 non-null  object             \n",
      " 12  converted_start_time  24257 non-null  datetime64[ns, UTC]\n",
      " 13  start_date            24257 non-null  datetime64[ns]     \n",
      " 14  start_hour            24257 non-null  datetime64[ns]     \n",
      " 15  converted_end_time    24257 non-null  datetime64[ns, UTC]\n",
      " 16  end_date              24257 non-null  object             \n",
      " 17  end_hour              24257 non-null  object             \n",
      " 18  guesses_nber          24257 non-null  object             \n",
      " 19  guesses_extracted     24257 non-null  object             \n",
      "dtypes: bool(1), datetime64[ns, UTC](2), datetime64[ns](2), float64(1), int64(2), object(12)\n",
      "memory usage: 3.7+ MB\n"
     ]
    }
   ],
   "source": [
    "df_reproduced.info()"
   ]
  },
  {
   "cell_type": "code",
   "execution_count": 11,
   "metadata": {},
   "outputs": [],
   "source": [
    "path = os.getenv('path')\n",
    "df_reproduced.to_csv(path + \"Data/guesses-preprocessed.csv\", index=False, header=True)"
   ]
  },
  {
   "cell_type": "code",
   "execution_count": 12,
   "metadata": {},
   "outputs": [
    {
     "name": "stdout",
     "output_type": "stream",
     "text": [
      "  guesses_extracted\n",
      "0             IRIBA\n",
      "1             IMANA\n",
      "2             IJURU\n",
      "3             IDUBU\n"
     ]
    }
   ],
   "source": [
    "q6 = \"\"\" SELECT guesses_extracted\n",
    "FROM df_reproduced\n",
    "WHERE id = 5193\n",
    "\"\"\"\n",
    "print(ps.sqldf(q6, locals()))\n"
   ]
  },
  {
   "cell_type": "code",
   "execution_count": 13,
   "metadata": {},
   "outputs": [
    {
     "name": "stdout",
     "output_type": "stream",
     "text": [
      "      guess  guess_freq\n",
      "0     IJURU         941\n",
      "1     IFURO         749\n",
      "2     SOKWE         718\n",
      "3     SHIMA         673\n",
      "4     KANDI         647\n",
      "...     ...         ...\n",
      "1271  ABAZI           1\n",
      "1272  ABASA           1\n",
      "1273  ABAJA           1\n",
      "1274  ABAHO           1\n",
      "1275  ABAHE           1\n",
      "\n",
      "[1276 rows x 2 columns]\n"
     ]
    }
   ],
   "source": [
    "# popular words guessed \n",
    "q7 = \"\"\" SELECT guesses_extracted AS guess, COUNT(guesses_extracted) AS guess_freq\n",
    "FROM df_reproduced\n",
    "\n",
    "GROUP BY guesses_extracted\n",
    "\n",
    "ORDER BY COUNT(guesses_extracted) DESC\n",
    "\n",
    "\"\"\"\n",
    "\n",
    "print(ps.sqldf(q7, locals()))"
   ]
  },
  {
   "cell_type": "code",
   "execution_count": 14,
   "metadata": {},
   "outputs": [
    {
     "name": "stdout",
     "output_type": "stream",
     "text": [
      "       country  guess  guess_freq\n",
      "0      Burundi  IJURU         484\n",
      "1      Burundi  SOKWE         375\n",
      "2      Burundi  IFURO         361\n",
      "3      Burundi  SHIMA         328\n",
      "4      Burundi  KANDI         304\n",
      "...        ...    ...         ...\n",
      "4882  Zimbabwe  EREKA           1\n",
      "4883  Zimbabwe  KIZWA           1\n",
      "4884  Zimbabwe  KUGWA           1\n",
      "4885  Zimbabwe  UMUTI           1\n",
      "4886  Zimbabwe  URUGO           1\n",
      "\n",
      "[4887 rows x 3 columns]\n"
     ]
    }
   ],
   "source": [
    "# popular words guessed by country\n",
    "q8 = \"\"\" SELECT country, guesses_extracted AS guess, COUNT(guesses_extracted) AS guess_freq\n",
    "FROM df_reproduced\n",
    "\n",
    "GROUP BY country, guesses_extracted\n",
    "\n",
    "ORDER BY COUNT(guesses_extracted) DESC\n",
    "\n",
    "\"\"\"\n",
    "\n",
    "print(ps.sqldf(q8, locals()))"
   ]
  },
  {
   "cell_type": "code",
   "execution_count": 15,
   "metadata": {},
   "outputs": [
    {
     "name": "stdout",
     "output_type": "stream",
     "text": [
      "            country first_guess  guess_freq\n",
      "0           Burundi       UMUTI         145\n",
      "1           Burundi       AMATA         142\n",
      "2           Burundi       IMANA         127\n",
      "3           Burundi       AMAZI         120\n",
      "4           Burundi       IMBWA         102\n",
      "...             ...         ...         ...\n",
      "1549  United States       YAMBU           1\n",
      "1550         Zambia       GUKWA           1\n",
      "1551         Zambia       ICUYA           1\n",
      "1552         Zambia       UBURO           1\n",
      "1553       Zimbabwe       UMUTI           1\n",
      "\n",
      "[1554 rows x 3 columns]\n"
     ]
    }
   ],
   "source": [
    "# popular 1st word guess by country\n",
    "q9= \"\"\" SELECT country, guesses_extracted AS first_guess, COUNT(guesses_extracted) AS guess_freq\n",
    "FROM df_reproduced\n",
    "WHERE guesses_nber = 'guesses_sep0'\n",
    "\n",
    "GROUP BY country, guesses_extracted\n",
    "\n",
    "ORDER BY COUNT(guesses_extracted) DESC\n",
    "\n",
    "\"\"\"\n",
    "\n",
    "print(ps.sqldf(q9, locals()))"
   ]
  },
  {
   "cell_type": "code",
   "execution_count": 16,
   "metadata": {},
   "outputs": [
    {
     "name": "stdout",
     "output_type": "stream",
     "text": [
      "   COUNT(DISTINCT guesses_extracted)\n",
      "0                               1276\n"
     ]
    }
   ],
   "source": [
    "# number of words guessed\n",
    "q10 = \"\"\" SELECT COUNT(DISTINCT guesses_extracted)\n",
    "FROM df_reproduced\n",
    "\"\"\"\n",
    "print(ps.sqldf(q10, locals()))"
   ]
  },
  {
   "cell_type": "code",
   "execution_count": 17,
   "metadata": {},
   "outputs": [
    {
     "name": "stdout",
     "output_type": "stream",
     "text": [
      "   solution\n",
      "0     IDUBU\n",
      "1     INKWI\n",
      "2     SOKWE\n",
      "3     INSWA\n",
      "4     HEPFO\n",
      "5     RIMWE\n",
      "6     KANDI\n",
      "7     INDWI\n",
      "8     SHIMA\n",
      "9     IJURU\n",
      "10    IFURO\n",
      "11    HANZE\n"
     ]
    }
   ],
   "source": [
    "# number of words solution\n",
    "q11 = \"\"\" SELECT DISTINCT solution\n",
    "FROM df_reproduced\n",
    "\"\"\"\n",
    "print(ps.sqldf(q11, locals()))"
   ]
  },
  {
   "cell_type": "code",
   "execution_count": 18,
   "metadata": {},
   "outputs": [
    {
     "name": "stdout",
     "output_type": "stream",
     "text": [
      "           country                  start_date solution\n",
      "0          Belgium  2022-04-06 00:00:00.000000    IDUBU\n",
      "1          Burundi  2022-04-06 00:00:00.000000    IDUBU\n",
      "2         Cameroon  2022-04-06 00:00:00.000000    IDUBU\n",
      "3           Canada  2022-04-06 00:00:00.000000    IDUBU\n",
      "4            China  2022-04-06 00:00:00.000000    IDUBU\n",
      "..             ...                         ...      ...\n",
      "374  United States  1970-01-01 00:00:00.000000    INSWA\n",
      "375        Burundi  1970-01-01 00:00:00.000000    KANDI\n",
      "376         Canada  1970-01-01 00:00:00.000000    KANDI\n",
      "377        Denmark  1970-01-01 00:00:00.000000    KANDI\n",
      "378         France  1970-01-01 00:00:00.000000    KANDI\n",
      "\n",
      "[379 rows x 3 columns]\n"
     ]
    }
   ],
   "source": [
    "# solution per day\n",
    "q12 = \"\"\" SELECT country, start_date, solution \n",
    "FROM df_reproduced\n",
    "GROUP BY start_date, solution, country\n",
    "ORDER BY start_date DESC\n",
    "\"\"\"\n",
    "print(ps.sqldf(q12, locals()))"
   ]
  },
  {
   "cell_type": "code",
   "execution_count": 17,
   "metadata": {},
   "outputs": [],
   "source": [
    "#df2 = ps.sqldf(q7, locals())\n",
    "#df2.info()"
   ]
  },
  {
   "cell_type": "code",
   "execution_count": 19,
   "metadata": {},
   "outputs": [
    {
     "name": "stdout",
     "output_type": "stream",
     "text": [
      "[('IJURU', 941), ('IFURO', 749), ('SOKWE', 718), ('SHIMA', 673)]\n"
     ]
    }
   ],
   "source": [
    "# popular guess\n",
    "Counter = Counter(df_reproduced['guesses_extracted'])\n",
    "  \n",
    "\n",
    "most_occur = Counter.most_common(4)\n",
    "\n",
    "print(most_occur)"
   ]
  }
 ],
 "metadata": {
  "interpreter": {
   "hash": "aee8b7b246df8f9039afb4144a1f6fd8d2ca17a180786b69acc140d282b71a49"
  },
  "kernelspec": {
   "display_name": "Python 3 (ipykernel)",
   "language": "python",
   "name": "python3"
  },
  "language_info": {
   "codemirror_mode": {
    "name": "ipython",
    "version": 3
   },
   "file_extension": ".py",
   "mimetype": "text/x-python",
   "name": "python",
   "nbconvert_exporter": "python",
   "pygments_lexer": "ipython3",
   "version": "3.9.12"
  }
 },
 "nbformat": 4,
 "nbformat_minor": 2
}
