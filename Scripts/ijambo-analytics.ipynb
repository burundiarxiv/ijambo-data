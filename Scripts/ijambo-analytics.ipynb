{
 "cells": [
  {
   "cell_type": "code",
   "execution_count": 1,
   "metadata": {},
   "outputs": [],
   "source": [
    "import os\n",
    "import pandas as pd\n",
    "import pandasql as ps"
   ]
  },
  {
   "cell_type": "code",
   "execution_count": 35,
   "metadata": {},
   "outputs": [
    {
     "name": "stdout",
     "output_type": "stream",
     "text": [
      "<class 'pandas.core.frame.DataFrame'>\n",
      "RangeIndex: 3481 entries, 0 to 3480\n",
      "Data columns (total 16 columns):\n",
      " #   Column                Non-Null Count  Dtype              \n",
      "---  ------                --------------  -----              \n",
      " 0   country               3481 non-null   object             \n",
      " 1   guesses               3481 non-null   object             \n",
      " 2   id                    3481 non-null   int64              \n",
      " 3   score                 3481 non-null   float64            \n",
      " 4   solution              3481 non-null   object             \n",
      " 5   time_taken            3481 non-null   int64              \n",
      " 6   timezone              3448 non-null   object             \n",
      " 7   won                   3481 non-null   bool               \n",
      " 8   start_time            3481 non-null   object             \n",
      " 9   end_time              3481 non-null   object             \n",
      " 10  converted_start_time  3481 non-null   datetime64[ns, UTC]\n",
      " 11  start_date            3481 non-null   datetime64[ns]     \n",
      " 12  start_hour            3481 non-null   datetime64[ns]     \n",
      " 13  converted_end_time    3481 non-null   datetime64[ns, UTC]\n",
      " 14  end_date              3481 non-null   datetime64[ns]     \n",
      " 15  end_hour              3481 non-null   datetime64[ns]     \n",
      "dtypes: bool(1), datetime64[ns, UTC](2), datetime64[ns](4), float64(1), int64(2), object(6)\n",
      "memory usage: 411.5+ KB\n"
     ]
    }
   ],
   "source": [
    "path = ''\n",
    "df = pd.read_csv('/Users/niyubahweany-arlene/git/ijambo-data/ijambo-data.csv', parse_dates=[10,11,12,13,14,15])\n",
    "df.info()\n",
    "\n"
   ]
  },
  {
   "cell_type": "code",
   "execution_count": 3,
   "metadata": {},
   "outputs": [
    {
     "name": "stdout",
     "output_type": "stream",
     "text": [
      "                   start_date  count_players  running_total_players\n",
      "0  1970-01-01 00:00:00.000000             46                     46\n",
      "1  2022-03-29 00:00:00.000000              1                     47\n",
      "2  2022-03-30 00:00:00.000000             81                    128\n",
      "3  2022-03-31 00:00:00.000000            723                    851\n",
      "4  2022-04-01 00:00:00.000000            652                   1503\n",
      "5  2022-04-02 00:00:00.000000            715                   2218\n",
      "6  2022-04-03 00:00:00.000000            731                   2949\n",
      "7  2022-04-04 00:00:00.000000            532                   3481\n"
     ]
    }
   ],
   "source": [
    "# players per day\n",
    "q1 = \"\"\"SELECT start_date, c AS count_players,\n",
    "\n",
    "SUM(c) OVER(ORDER BY start_date) AS running_total_players\n",
    "FROM (\n",
    "  SELECT start_date, COUNT(DISTINCT id) c\n",
    "  FROM (\n",
    "    SELECT MIN(start_date) start_date, id\n",
    "    FROM df\n",
    "    GROUP BY id\n",
    "  ) \n",
    "  GROUP BY start_date\n",
    ") \n",
    "\"\"\"\n",
    "\n",
    "print(ps.sqldf(q1, locals()))"
   ]
  },
  {
   "cell_type": "code",
   "execution_count": 25,
   "metadata": {},
   "outputs": [
    {
     "name": "stdout",
     "output_type": "stream",
     "text": [
      "          country  count_players\n",
      "0         Burundi           1736\n",
      "1          Canada            467\n",
      "2          France            429\n",
      "3          Rwanda            221\n",
      "4   United States            151\n",
      "5           Kenya             93\n",
      "6  United Kingdom             47\n",
      "7         Belgium             43\n",
      "8     South Korea             33\n",
      "9          Sweden             31\n"
     ]
    }
   ],
   "source": [
    "# players per country\n",
    "q2 = \"\"\" SELECT\n",
    "    DISTINCT country,\n",
    "    COUNT (id) AS count_players\n",
    "FROM\n",
    "    df\n",
    "GROUP BY\n",
    "    country\n",
    "\n",
    "ORDER BY COUNT (id) DESC\n",
    "\n",
    "LIMIT 10    \n",
    "\"\"\"\n",
    "\n",
    "print(ps.sqldf(q2, locals()))"
   ]
  },
  {
   "cell_type": "code",
   "execution_count": 30,
   "metadata": {},
   "outputs": [
    {
     "name": "stdout",
     "output_type": "stream",
     "text": [
      "          country                  start_date  count_players\n",
      "0         Burundi  2022-04-04 00:00:00.000000            288\n",
      "1          Canada  2022-04-04 00:00:00.000000             58\n",
      "2          France  2022-04-04 00:00:00.000000             51\n",
      "3          Rwanda  2022-04-04 00:00:00.000000             34\n",
      "4           Kenya  2022-04-04 00:00:00.000000             20\n",
      "5   United States  2022-04-04 00:00:00.000000             18\n",
      "6  United Kingdom  2022-04-04 00:00:00.000000              8\n",
      "7          Sweden  2022-04-04 00:00:00.000000              7\n",
      "8     South Korea  2022-04-04 00:00:00.000000              6\n",
      "9         Belgium  2022-04-04 00:00:00.000000              6\n"
     ]
    }
   ],
   "source": [
    "# players per country\n",
    "q3 = \"\"\" SELECT\n",
    "    DISTINCT country,\n",
    "    start_date,\n",
    "    COUNT (id) AS count_players\n",
    "FROM\n",
    "    df\n",
    "GROUP BY\n",
    "    country, start_date\n",
    "\n",
    "ORDER BY start_date DESC, COUNT (id) DESC\n",
    "\n",
    "LIMIT 10    \n",
    "\"\"\"\n",
    "\n",
    "print(ps.sqldf(q3, locals()))"
   ]
  },
  {
   "cell_type": "code",
   "execution_count": 41,
   "metadata": {},
   "outputs": [
    {
     "name": "stdout",
     "output_type": "stream",
     "text": [
      "         country     avg_score\n",
      "0      Australia  4.122333e+09\n",
      "1        Denmark  1.236628e+09\n",
      "2        Belgium  2.498345e+08\n",
      "3         Canada  1.530792e+08\n",
      "4  United States  1.417060e+08\n",
      "5         Rwanda  1.276054e+08\n",
      "6         France  6.890189e+07\n",
      "7        Burundi  4.162122e+07\n",
      "8         Norway  8.291833e+04\n",
      "9         Israel  3.716625e+04\n"
     ]
    }
   ],
   "source": [
    "# rank score by country \n",
    "q4 = \"\"\" SELECT\n",
    "    DISTINCT country,\n",
    "    avg(score) AS avg_score \n",
    "FROM\n",
    "    df\n",
    "WHERE won = 1\n",
    "GROUP BY\n",
    "    country\n",
    "ORDER BY avg(score) DESC\n",
    "\n",
    "LIMIT 10    \n",
    "\"\"\"\n",
    "\n",
    "print(ps.sqldf(q4, locals()))"
   ]
  },
  {
   "cell_type": "code",
   "execution_count": 42,
   "metadata": {},
   "outputs": [
    {
     "name": "stdout",
     "output_type": "stream",
     "text": [
      "          country                  start_date      avg_score\n",
      "0          Norway  2022-04-04 00:00:00.000000  104312.000000\n",
      "1     South Korea  2022-04-04 00:00:00.000000   90227.000000\n",
      "2  United Kingdom  2022-04-04 00:00:00.000000   21886.000000\n",
      "3       Singapore  2022-04-04 00:00:00.000000   13990.000000\n",
      "4         Burundi  2022-04-04 00:00:00.000000   12346.587678\n",
      "5     Netherlands  2022-04-04 00:00:00.000000   11206.750000\n",
      "6          France  2022-04-04 00:00:00.000000   10792.609756\n",
      "7        Tanzania  2022-04-04 00:00:00.000000   10551.000000\n",
      "8           China  2022-04-04 00:00:00.000000   10357.500000\n",
      "9          Canada  2022-04-04 00:00:00.000000    6506.239130\n"
     ]
    }
   ],
   "source": [
    "#rank score by country per day\n",
    "q5 = \"\"\"SELECT\n",
    "    country,\n",
    "    start_date,\n",
    "    avg(score)  AS avg_score\n",
    "from\n",
    "    (\n",
    "        select *,avg(score) OVER (PARTITION BY country, start_date) \n",
    "        from df\n",
    "    ) \n",
    "WHERE won = 1\n",
    "GROUP BY\n",
    "     country, start_date\n",
    "ORDER BY\n",
    "    start_date DESC, avg(score) DESC\n",
    "\n",
    "LIMIT 10\n",
    "\"\"\"\n",
    "\n",
    "print(ps.sqldf(q5, locals()))"
   ]
  }
 ],
 "metadata": {
  "interpreter": {
   "hash": "aee8b7b246df8f9039afb4144a1f6fd8d2ca17a180786b69acc140d282b71a49"
  },
  "kernelspec": {
   "display_name": "Python 3.9.12 64-bit",
   "language": "python",
   "name": "python3"
  },
  "language_info": {
   "codemirror_mode": {
    "name": "ipython",
    "version": 3
   },
   "file_extension": ".py",
   "mimetype": "text/x-python",
   "name": "python",
   "nbconvert_exporter": "python",
   "pygments_lexer": "ipython3",
   "version": "3.9.12"
  },
  "orig_nbformat": 4
 },
 "nbformat": 4,
 "nbformat_minor": 2
}
